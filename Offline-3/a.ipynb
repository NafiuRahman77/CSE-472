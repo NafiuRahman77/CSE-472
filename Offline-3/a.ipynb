{
 "cells": [
  {
   "cell_type": "markdown",
   "metadata": {},
   "source": [
    "### Import "
   ]
  },
  {
   "cell_type": "code",
   "execution_count": 11,
   "metadata": {},
   "outputs": [],
   "source": [
    "import numpy as np\n",
    "import pandas as pd\n",
    "import torchvision.datasets as ds\n",
    "from torchvision import transforms\n",
    "from sklearn.model_selection import train_test_split\n",
    "from sklearn.metrics import accuracy_score, f1_score, confusion_matrix\n",
    "import matplotlib.pyplot as plt\n",
    "import seaborn as sns\n",
    "from tqdm import tqdm\n",
    "import pickle\n",
    "#Data loading\n",
    "from torch.utils.data import DataLoader"
   ]
  },
  {
   "cell_type": "markdown",
   "metadata": {},
   "source": [
    "### Dataset "
   ]
  },
  {
   "cell_type": "code",
   "execution_count": 21,
   "metadata": {},
   "outputs": [
    {
     "name": "stdout",
     "output_type": "stream",
     "text": [
      "(48000, 784) (48000, 10)\n",
      "(12000, 784) (12000, 10)\n",
      "(10000, 784) (10000, 10)\n"
     ]
    }
   ],
   "source": [
    "\n",
    "train_val_set = ds.FashionMNIST(root='./data', train=True, download=True, transform=transforms.ToTensor())\n",
    "testset = ds.FashionMNIST(root='./data', train=False, download=True, transform=transforms.ToTensor())\n",
    "\n",
    "\n",
    "def to_ndarray(dataset):\n",
    "    images = []\n",
    "    labels = []\n",
    "    \n",
    "    for image, label in dataset:\n",
    "        image = image.numpy().flatten()\n",
    "        images.append(image)\n",
    "        labels.append(label)  # Use raw labels here\n",
    "    return np.array(images), np.array(labels)\n",
    "\n",
    "X_trainval, y_trainval = to_ndarray(train_val_set)\n",
    "X_test, y_test = to_ndarray(testset)\n",
    "\n",
    "# Perform the train/validation split using raw labels\n",
    "X_train, X_val, y_train, y_val = train_test_split(X_trainval, y_trainval, test_size=0.2, random_state=42)\n",
    "\n",
    "# One-hot encode labels after splitting\n",
    "y_train = np.eye(10)[y_train]\n",
    "y_val = np.eye(10)[y_val]\n",
    "y_test = np.eye(10)[y_test]\n",
    "\n",
    "print(X_train.shape, y_train.shape)  # Should print (48000, 784) (48000, 10)\n",
    "print(X_val.shape, y_val.shape)      # Should print (12000, 784) (12000, 10)\n",
    "print(X_test.shape, y_test.shape)    # Should print (10000, 784) (10000,)\n",
    "\n",
    "\n",
    "\n"
   ]
  },
  {
   "cell_type": "markdown",
   "metadata": {},
   "source": [
    "### Layer"
   ]
  },
  {
   "cell_type": "code",
   "execution_count": null,
   "metadata": {},
   "outputs": [],
   "source": [
    "class Layer:\n",
    "    def forward(self, X):\n",
    "        raise NotImplementedError\n",
    "    \n",
    "    def backward(self, dLdy):\n",
    "        raise NotImplementedError\n"
   ]
  },
  {
   "cell_type": "markdown",
   "metadata": {},
   "source": [
    "### Dense Layer"
   ]
  },
  {
   "cell_type": "code",
   "execution_count": null,
   "metadata": {},
   "outputs": [],
   "source": [
    "class DenseLayer(Layer):\n",
    "    def __init__(self, input_dim, output_dim):\n",
    "        self.weights = np.random.randn(input_dim, output_dim) * np.sqrt(2.0 / input_dim)\n",
    "        self.bias = np.zeros((1, output_dim))\n",
    "        self.output = None\n",
    "    \n",
    "    def forward(self, X):\n",
    "        self.input = X\n",
    "        self.output = np.dot(X, self.weights) + self.bias\n",
    "        return self.output\n",
    "    \n",
    "    def backward(self, d_out):\n",
    "        d_weights = np.dot(self.input.T, d_out)\n",
    "        d_bias = np.sum(d_out, axis=0, keepdims=True)\n",
    "        d_input = np.dot(d_out, self.weights.T)\n",
    "        \n",
    "        self.d_weights = d_weights\n",
    "        self.d_bias = d_bias\n",
    "        self.d_input = d_input\n",
    "        return d_input\n"
   ]
  },
  {
   "cell_type": "markdown",
   "metadata": {},
   "source": [
    "### ReLU Layer "
   ]
  },
  {
   "cell_type": "code",
   "execution_count": null,
   "metadata": {},
   "outputs": [],
   "source": [
    "class ReLULayer(Layer):\n",
    "    def forward(self, X):\n",
    "        self.input = X\n",
    "        self.output = self.relu(X)\n",
    "        return self.output\n",
    "    \n",
    "    def backward(self, d_out):\n",
    "        self.d_input = d_out * np.where(self.input > 0, 1, 0)\n",
    "        return self.d_input\n",
    "        \n",
    "    def relu(self, x):\n",
    "        return np.maximum(x, 0)\n",
    "    \n",
    "    def relu_derivative(self, x):\n",
    "        return np.where(x > 0, 1, 0)\n",
    "       "
   ]
  },
  {
   "cell_type": "markdown",
   "metadata": {},
   "source": [
    "### Tanh Layer"
   ]
  },
  {
   "cell_type": "code",
   "execution_count": null,
   "metadata": {},
   "outputs": [],
   "source": [
    "class TanhLayer(Layer):\n",
    "    def forward(self, X):\n",
    "        self.input = X\n",
    "        self.output = np.tanh(X)\n",
    "        return self.output\n",
    "    \n",
    "    def backward(self, d_out):\n",
    "        self.d_input = d_out * (1 - np.tanh(self.input) ** 2)\n",
    "        return self.d_input"
   ]
  },
  {
   "cell_type": "markdown",
   "metadata": {},
   "source": [
    "### Sigmoid Layer"
   ]
  },
  {
   "cell_type": "code",
   "execution_count": null,
   "metadata": {},
   "outputs": [],
   "source": [
    "class SigmoidLayer(Layer):\n",
    "    def forward(self, X):\n",
    "        self.input = X\n",
    "        self.output = 1 / (1 + np.exp(-X))\n",
    "        return self.output\n",
    "    \n",
    "    def backward(self, d_out):\n",
    "        self.d_input = d_out * self.output * (1 - self.output)\n",
    "        return self.d_input"
   ]
  },
  {
   "cell_type": "markdown",
   "metadata": {},
   "source": [
    "### Softmax Layer"
   ]
  },
  {
   "cell_type": "code",
   "execution_count": null,
   "metadata": {},
   "outputs": [],
   "source": [
    "class SoftmaxLayer(Layer):\n",
    "    def forward(self, X):\n",
    "        self.input = X\n",
    "        exps = np.exp(X - np.max(X, axis=1, keepdims=True))\n",
    "        self.output = exps / np.sum(exps, axis=1, keepdims=True)\n",
    "        return self.output\n",
    "    \n",
    "    def backward(self, d_out):\n",
    "        return self.output - d_out\n",
    "        "
   ]
  },
  {
   "cell_type": "markdown",
   "metadata": {},
   "source": [
    "### Dropout Layer"
   ]
  },
  {
   "cell_type": "code",
   "execution_count": null,
   "metadata": {},
   "outputs": [],
   "source": [
    "class DropoutLayer(Layer):\n",
    "    def __init__(self, p):\n",
    "        self.p = p\n",
    "        self.mask = None\n",
    "    \n",
    "    def forward(self, X):\n",
    "        self.input = X\n",
    "        if self.p == 0 :\n",
    "            self.output = X\n",
    "            return self.output\n",
    "        elif self.p == 1:\n",
    "            self.output = np.zeros(X.shape)\n",
    "            return self.output\n",
    "        \n",
    "        self.mask = np.random.binomial(1, self.p, size=X.shape) / self.p\n",
    "        self.output = X * self.mask\n",
    "        return self.output\n",
    "    \n",
    "    def backward(self, d_out):\n",
    "        return d_out * self.mask"
   ]
  },
  {
   "cell_type": "markdown",
   "metadata": {},
   "source": [
    "### Cross Entropy Loss"
   ]
  },
  {
   "cell_type": "code",
   "execution_count": null,
   "metadata": {},
   "outputs": [],
   "source": []
  },
  {
   "cell_type": "markdown",
   "metadata": {},
   "source": [
    "### Optimizer"
   ]
  },
  {
   "cell_type": "code",
   "execution_count": null,
   "metadata": {},
   "outputs": [],
   "source": []
  },
  {
   "cell_type": "markdown",
   "metadata": {},
   "source": [
    "### Neural Network"
   ]
  },
  {
   "cell_type": "code",
   "execution_count": null,
   "metadata": {},
   "outputs": [],
   "source": []
  },
  {
   "cell_type": "code",
   "execution_count": null,
   "metadata": {},
   "outputs": [],
   "source": []
  },
  {
   "cell_type": "code",
   "execution_count": 38,
   "metadata": {},
   "outputs": [
    {
     "name": "stdout",
     "output_type": "stream",
     "text": [
      "(48000, 784) (48000, 10)\n",
      "(12000, 784) (12000, 10)\n",
      "(10000, 784) (10000, 10)\n"
     ]
    }
   ],
   "source": [
    "\n",
    "ds = Dataset()\n",
    "X_train, y_train, X_val, y_val, X_test, y_test = ds.get_data()\n",
    "print(X_train.shape, y_train.shape)\n",
    "print(X_val.shape, y_val.shape)\n",
    "print(X_test.shape, y_test.shape)"
   ]
  }
 ],
 "metadata": {
  "kernelspec": {
   "display_name": "Python 3",
   "language": "python",
   "name": "python3"
  },
  "language_info": {
   "codemirror_mode": {
    "name": "ipython",
    "version": 3
   },
   "file_extension": ".py",
   "mimetype": "text/x-python",
   "name": "python",
   "nbconvert_exporter": "python",
   "pygments_lexer": "ipython3",
   "version": "3.12.2"
  }
 },
 "nbformat": 4,
 "nbformat_minor": 2
}
