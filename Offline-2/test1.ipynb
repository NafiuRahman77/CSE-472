{
 "cells": [
  {
   "cell_type": "code",
   "execution_count": 1,
   "metadata": {},
   "outputs": [
    {
     "data": {
      "text/plain": [
       "14211     1\n",
       "240258    0\n",
       "234397    0\n",
       "124778    0\n",
       "88783     0\n",
       "         ..\n",
       "73370     0\n",
       "262326    0\n",
       "200086    0\n",
       "231354    0\n",
       "69654     0\n",
       "Name: Class, Length: 16393, dtype: int64"
      ]
     },
     "execution_count": 1,
     "metadata": {},
     "output_type": "execute_result"
    }
   ],
   "source": [
    "import pandas as pd\n",
    "import numpy as np\n",
    "from sklearn.preprocessing import LabelEncoder, StandardScaler\n",
    "from sklearn.model_selection import train_test_split\n",
    "# import logistic regression model\n",
    "from sklearn.linear_model import LogisticRegression\n",
    "\n",
    "df = pd.read_csv('creditcard/creditcard.csv')\n",
    "#drop time column\n",
    "df = df.drop('Time', axis=1)\n",
    "#randomly selected 20000 negative samples + all positive samples\n",
    "df = pd.concat([df[df['Class'] == 0].sample(20000, random_state=42), df[df['Class'] == 1]])\n",
    "        # shuffle\n",
    "df = df.sample(frac=1, random_state=42)\n",
    "\n",
    "        # split X and y\n",
    "X = df.iloc[:, :-1]\n",
    "y = df.iloc[:, -1]\n",
    "\n",
    "        # label encoding for categorical columns with binary values\n",
    "for col in X.columns:\n",
    "    # if column has more than 2 values, one hot encoding is used and object typw\n",
    "    if len(X[col].unique()) > 2 and X[col].dtype == 'object':\n",
    "                # one hot encoding\n",
    "        X = pd.get_dummies(X, columns=[col], drop_first=True)\n",
    "    elif  X[col].dtype == 'object':\n",
    "        le = LabelEncoder()\n",
    "        X[col] = le.fit_transform(X[col])\n",
    "\n",
    "for col in X.columns:\n",
    "    if len(X[col].unique()) > 2:\n",
    "        scaler = StandardScaler()  \n",
    "        X[col] = scaler.fit_transform(X[col].values.reshape(-1, 1))\n",
    "\n",
    "X_train, X_test, y_train, y_test = train_test_split(X, y, test_size=0.2, random_state=42)\n",
    "# print(X_train.shape, X_test.shape, y_train.shape, y_test.shape)\n",
    "# print(type(X_train), type(X_test), type(y_train), type(y_test))\n",
    "\n",
    "y_train"
   ]
  },
  {
   "cell_type": "code",
   "execution_count": 2,
   "metadata": {},
   "outputs": [
    {
     "name": "stdout",
     "output_type": "stream",
     "text": [
      "<class 'pandas.core.frame.DataFrame'> <class 'pandas.core.frame.DataFrame'> <class 'pandas.core.series.Series'> <class 'pandas.core.series.Series'>\n"
     ]
    }
   ],
   "source": [
    "print(type(X_train), type(X_test), type(y_train), type(y_test))"
   ]
  }
 ],
 "metadata": {
  "kernelspec": {
   "display_name": "Python 3",
   "language": "python",
   "name": "python3"
  },
  "language_info": {
   "codemirror_mode": {
    "name": "ipython",
    "version": 3
   },
   "file_extension": ".py",
   "mimetype": "text/x-python",
   "name": "python",
   "nbconvert_exporter": "python",
   "pygments_lexer": "ipython3",
   "version": "3.10.4"
  }
 },
 "nbformat": 4,
 "nbformat_minor": 2
}
