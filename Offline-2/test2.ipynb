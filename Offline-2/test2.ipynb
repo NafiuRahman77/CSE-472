{
 "cells": [
  {
   "cell_type": "code",
   "execution_count": 5,
   "metadata": {},
   "outputs": [
    {
     "name": "stdout",
     "output_type": "stream",
     "text": [
      "(5634, 30) (1409, 30) (5634,) (1409,)\n",
      "gender                                     int32\n",
      "SeniorCitizen                              int64\n",
      "Partner                                    int32\n",
      "Dependents                                 int32\n",
      "tenure                                   float64\n",
      "PhoneService                               int32\n",
      "PaperlessBilling                           int32\n",
      "MonthlyCharges                           float64\n",
      "TotalCharges                             float64\n",
      "MultipleLines_No phone service             int64\n",
      "MultipleLines_Yes                          int64\n",
      "InternetService_Fiber optic                int64\n",
      "InternetService_No                         int64\n",
      "OnlineSecurity_No internet service         int64\n",
      "OnlineSecurity_Yes                         int64\n",
      "OnlineBackup_No internet service           int64\n",
      "OnlineBackup_Yes                           int64\n",
      "DeviceProtection_No internet service       int64\n",
      "DeviceProtection_Yes                       int64\n",
      "TechSupport_No internet service            int64\n",
      "TechSupport_Yes                            int64\n",
      "StreamingTV_No internet service            int64\n",
      "StreamingTV_Yes                            int64\n",
      "StreamingMovies_No internet service        int64\n",
      "StreamingMovies_Yes                        int64\n",
      "Contract_One year                          int64\n",
      "Contract_Two year                          int64\n",
      "PaymentMethod_Credit card (automatic)      int64\n",
      "PaymentMethod_Electronic check             int64\n",
      "PaymentMethod_Mailed check                 int64\n",
      "dtype: object\n"
     ]
    }
   ],
   "source": [
    "import pandas as pd\n",
    "import numpy as np\n",
    "from sklearn.preprocessing import LabelEncoder, StandardScaler\n",
    "from sklearn.model_selection import train_test_split\n",
    "\n",
    "# Load the data\n",
    "df = pd.read_csv('churn/WA_Fn-UseC_-Telco-Customer-Churn.csv')\n",
    "\n",
    "df = df.drop('customerID', axis=1)\n",
    "df['TotalCharges'] = pd.to_numeric(df['TotalCharges'], errors='coerce')\n",
    "for col in df.columns:\n",
    "    if df[col].dtype == 'object':\n",
    "        df[col] = df[col].fillna(df[col].mode()[0])\n",
    "    else:\n",
    "        df[col] = df[col].fillna(df[col].mean())\n",
    "\n",
    "        # change target to binary\n",
    "df['Churn'] = df['Churn'].apply(lambda x: 1 if x == 'Yes' else 0)\n",
    "\n",
    "        # split X and y\n",
    "X = df.iloc[:, :-1]\n",
    "y = df.iloc[:, -1]\n",
    "\n",
    "for col in X.columns:\n",
    "    if len(X[col].unique()) > 2 and X[col].dtype == 'object':\n",
    "        X = pd.get_dummies(X, columns=[col], drop_first=True)\n",
    "    elif  X[col].dtype == 'object':\n",
    "        le = LabelEncoder()\n",
    "        X[col] = le.fit_transform(X[col])\n",
    "\n",
    "for col in X.columns:\n",
    "    if len(X[col].unique()) > 2:\n",
    "        scaler = StandardScaler()  \n",
    "        X[col] = scaler.fit_transform(X[col].values.reshape(-1, 1))\n",
    "\n",
    "X_train, X_test, y_train, y_test = train_test_split(X, y, test_size=0.2, random_state=42)\n",
    "\n",
    "# change boolean columns to binary\n",
    "for col in X_train.columns:\n",
    "    if X_train[col].dtype == 'bool':\n",
    "        X_train[col] = X_train[col].apply(lambda x: 1 if x == True else 0)\n",
    "        X_test[col] = X_test[col].apply(lambda x: 1 if x == True else 0)\n",
    "\n",
    "print(X_train.shape, X_test.shape, y_train.shape, y_test.shape)\n",
    "# print datatypes of X_train\n",
    "print(X_train.dtypes)"
   ]
  }
 ],
 "metadata": {
  "kernelspec": {
   "display_name": "Python 3",
   "language": "python",
   "name": "python3"
  },
  "language_info": {
   "codemirror_mode": {
    "name": "ipython",
    "version": 3
   },
   "file_extension": ".py",
   "mimetype": "text/x-python",
   "name": "python",
   "nbconvert_exporter": "python",
   "pygments_lexer": "ipython3",
   "version": "3.12.2"
  }
 },
 "nbformat": 4,
 "nbformat_minor": 2
}
