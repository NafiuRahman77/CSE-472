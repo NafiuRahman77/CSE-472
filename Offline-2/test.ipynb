{
 "cells": [
  {
   "cell_type": "code",
   "execution_count": 18,
   "metadata": {},
   "outputs": [],
   "source": [
    "import pandas as pd\n",
    "import numpy as np\n",
    "\n",
    "from ucimlrepo import fetch_ucirepo\n",
    "from sklearn.model_selection import train_test_split\n",
    "from sklearn.preprocessing import StandardScaler\n",
    "from sklearn.preprocessing import LabelEncoder\n",
    "# import corrwith\n",
    "from sklearn.metrics import accuracy_score\n"
   ]
  },
  {
   "cell_type": "code",
   "execution_count": 19,
   "metadata": {},
   "outputs": [],
   "source": [
    "adult_df = fetch_ucirepo(id=2)\n",
    "X = adult_df.data.features\n",
    "y = adult_df.data.targets\n",
    "\n",
    "X = X.replace(' ?', np.nan)\n",
    "\n",
    "for col in X.columns:\n",
    "    if X[col].dtype == 'object':\n",
    "        X[col] = X[col].fillna(X[col].mode()[0])\n",
    "    else:\n",
    "        X[col] = X[col].fillna(X[col].mean())\n"
   ]
  },
  {
   "cell_type": "code",
   "execution_count": 20,
   "metadata": {},
   "outputs": [
    {
     "name": "stdout",
     "output_type": "stream",
     "text": [
      "['<=50K' '<=50K.' '>50K' '>50K.']\n"
     ]
    }
   ],
   "source": [
    "# print the unique values in the target\n",
    "print(np.unique(y))\n",
    "# ['<=50K' '<=50K.' '>50K' '>50K.'] # the target has 4 unique values, 0 if <=50K or <=50K. and 1 if >50K or >50K.\n",
    "y = np.where(y == '<=50K', 0, y)\n",
    "y = np.where(y == '<=50K.', 0, y)\n",
    "y = np.where(y == '>50K', 1, y)\n",
    "y = np.where(y == '>50K.', 1, y)\n",
    "\n",
    "y = y.astype(int)  # Ensure y is integer"
   ]
  },
  {
   "cell_type": "code",
   "execution_count": null,
   "metadata": {},
   "outputs": [],
   "source": []
  },
  {
   "cell_type": "code",
   "execution_count": 21,
   "metadata": {},
   "outputs": [
    {
     "name": "stdout",
     "output_type": "stream",
     "text": [
      "age float64\n",
      "fnlwgt float64\n",
      "education-num float64\n",
      "sex float64\n",
      "capital-gain float64\n",
      "capital-loss float64\n",
      "hours-per-week float64\n",
      "workclass_Federal-gov float64\n",
      "workclass_Local-gov float64\n",
      "workclass_Never-worked float64\n",
      "workclass_Private float64\n",
      "workclass_Self-emp-inc float64\n",
      "workclass_Self-emp-not-inc float64\n",
      "workclass_State-gov float64\n",
      "workclass_Without-pay float64\n",
      "education_11th float64\n",
      "education_12th float64\n",
      "education_1st-4th float64\n",
      "education_5th-6th float64\n",
      "education_7th-8th float64\n",
      "education_9th float64\n",
      "education_Assoc-acdm float64\n",
      "education_Assoc-voc float64\n",
      "education_Bachelors float64\n",
      "education_Doctorate float64\n",
      "education_HS-grad float64\n",
      "education_Masters float64\n",
      "education_Preschool float64\n",
      "education_Prof-school float64\n",
      "education_Some-college float64\n",
      "marital-status_Married-AF-spouse float64\n",
      "marital-status_Married-civ-spouse float64\n",
      "marital-status_Married-spouse-absent float64\n",
      "marital-status_Never-married float64\n",
      "marital-status_Separated float64\n",
      "marital-status_Widowed float64\n",
      "occupation_Adm-clerical float64\n",
      "occupation_Armed-Forces float64\n",
      "occupation_Craft-repair float64\n",
      "occupation_Exec-managerial float64\n",
      "occupation_Farming-fishing float64\n",
      "occupation_Handlers-cleaners float64\n",
      "occupation_Machine-op-inspct float64\n",
      "occupation_Other-service float64\n",
      "occupation_Priv-house-serv float64\n",
      "occupation_Prof-specialty float64\n",
      "occupation_Protective-serv float64\n",
      "occupation_Sales float64\n",
      "occupation_Tech-support float64\n",
      "occupation_Transport-moving float64\n",
      "relationship_Not-in-family float64\n",
      "relationship_Other-relative float64\n",
      "relationship_Own-child float64\n",
      "relationship_Unmarried float64\n",
      "relationship_Wife float64\n",
      "race_Asian-Pac-Islander float64\n",
      "race_Black float64\n",
      "race_Other float64\n",
      "race_White float64\n",
      "native-country_Cambodia float64\n",
      "native-country_Canada float64\n",
      "native-country_China float64\n",
      "native-country_Columbia float64\n",
      "native-country_Cuba float64\n",
      "native-country_Dominican-Republic float64\n",
      "native-country_Ecuador float64\n",
      "native-country_El-Salvador float64\n",
      "native-country_England float64\n",
      "native-country_France float64\n",
      "native-country_Germany float64\n",
      "native-country_Greece float64\n",
      "native-country_Guatemala float64\n",
      "native-country_Haiti float64\n",
      "native-country_Holand-Netherlands float64\n",
      "native-country_Honduras float64\n",
      "native-country_Hong float64\n",
      "native-country_Hungary float64\n",
      "native-country_India float64\n",
      "native-country_Iran float64\n",
      "native-country_Ireland float64\n",
      "native-country_Italy float64\n",
      "native-country_Jamaica float64\n",
      "native-country_Japan float64\n",
      "native-country_Laos float64\n",
      "native-country_Mexico float64\n",
      "native-country_Nicaragua float64\n",
      "native-country_Outlying-US(Guam-USVI-etc) float64\n",
      "native-country_Peru float64\n",
      "native-country_Philippines float64\n",
      "native-country_Poland float64\n",
      "native-country_Portugal float64\n",
      "native-country_Puerto-Rico float64\n",
      "native-country_Scotland float64\n",
      "native-country_South float64\n",
      "native-country_Taiwan float64\n",
      "native-country_Thailand float64\n",
      "native-country_Trinadad&Tobago float64\n",
      "native-country_United-States float64\n",
      "native-country_Vietnam float64\n",
      "native-country_Yugoslavia float64\n"
     ]
    }
   ],
   "source": [
    "\n",
    "\n",
    "\n",
    "        \n",
    "        \n",
    "\n",
    "for col in X.columns:\n",
    "    if X[col].dtype == 'object' and len(X[col].unique()) == 2:\n",
    "        le = LabelEncoder()\n",
    "        X[col] = le.fit_transform(X[col])\n",
    "            \n",
    "    elif X[col].dtype == 'object':\n",
    "        X = pd.get_dummies(X, columns=[col], drop_first=True)\n",
    "\n",
    "\n",
    "for col in X.columns.values:\n",
    "    scalar = StandardScaler()\n",
    "    X[col] = scalar.fit_transform(X[col].values.reshape(-1, 1))\n",
    "        \n",
    "# check if all the columns are numeric or not\n",
    "for col in X.columns:\n",
    "    print(col, X[col].dtype)"
   ]
  },
  {
   "cell_type": "code",
   "execution_count": 24,
   "metadata": {},
   "outputs": [
    {
     "name": "stdout",
     "output_type": "stream",
     "text": [
      "<class 'pandas.core.frame.DataFrame'>\n"
     ]
    }
   ],
   "source": [
    "# flatten the target\n",
    "y = y.flatten()\n",
    "print(type(X))"
   ]
  },
  {
   "cell_type": "code",
   "execution_count": 23,
   "metadata": {},
   "outputs": [
    {
     "data": {
      "text/plain": [
       "array([0, 0, 0, ..., 0, 0, 1])"
      ]
     },
     "execution_count": 23,
     "metadata": {},
     "output_type": "execute_result"
    }
   ],
   "source": [
    "\n",
    "X_train, X_test, y_train, y_test = train_test_split(X, y, test_size=0.2, random_state=42)\n",
    "X_train, X_val, y_train, y_val = train_test_split(X_train, y_train, test_size=0.2, random_state=42)\n",
    "y\n"
   ]
  },
  {
   "cell_type": "code",
   "execution_count": 26,
   "metadata": {},
   "outputs": [
    {
     "name": "stdout",
     "output_type": "stream",
     "text": [
      "<class 'numpy.ndarray'>\n"
     ]
    }
   ],
   "source": [
    "print(type(y_train))"
   ]
  },
  {
   "cell_type": "code",
   "execution_count": null,
   "metadata": {},
   "outputs": [],
   "source": []
  }
 ],
 "metadata": {
  "kernelspec": {
   "display_name": "Python 3",
   "language": "python",
   "name": "python3"
  },
  "language_info": {
   "codemirror_mode": {
    "name": "ipython",
    "version": 3
   },
   "file_extension": ".py",
   "mimetype": "text/x-python",
   "name": "python",
   "nbconvert_exporter": "python",
   "pygments_lexer": "ipython3",
   "version": "3.12.2"
  }
 },
 "nbformat": 4,
 "nbformat_minor": 2
}
