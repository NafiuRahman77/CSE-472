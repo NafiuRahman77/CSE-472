{
 "cells": [
  {
   "cell_type": "code",
   "execution_count": 14,
   "metadata": {},
   "outputs": [],
   "source": [
    "import pandas as pd\n",
    "import numpy as np\n",
    "\n",
    "from ucimlrepo import fetch_ucirepo\n",
    "from sklearn.model_selection import train_test_split\n",
    "from sklearn.preprocessing import StandardScaler\n",
    "from sklearn.preprocessing import LabelEncoder\n",
    "# import corrwith\n",
    "from sklearn.metrics import accuracy_score\n"
   ]
  },
  {
   "cell_type": "code",
   "execution_count": 15,
   "metadata": {},
   "outputs": [],
   "source": [
    "# adult_df = fetch_ucirepo(id=2)\n",
    "# X = adult_df.data.features\n",
    "# y = adult_df.data.targets\n"
   ]
  },
  {
   "cell_type": "code",
   "execution_count": 16,
   "metadata": {},
   "outputs": [],
   "source": [
    "# print unique values in y\n",
    "# print(np.unique(y))"
   ]
  },
  {
   "cell_type": "code",
   "execution_count": 17,
   "metadata": {},
   "outputs": [],
   "source": [
    "\n",
    "\n",
    "# X = X.replace(' ?', np.nan)\n",
    "\n",
    "# for col in X.columns:\n",
    "#     if X[col].dtype == 'object':\n",
    "#         X[col] = X[col].fillna(X[col].mode()[0])\n",
    "#     else:\n",
    "#         X[col] = X[col].fillna(X[col].mean())\n"
   ]
  },
  {
   "cell_type": "code",
   "execution_count": 18,
   "metadata": {},
   "outputs": [],
   "source": [
    "# # print the unique values in the target\n",
    "# print(np.unique(y))\n",
    "# # ['<=50K' '<=50K.' '>50K' '>50K.'] # the target has 4 unique values, 0 if <=50K or <=50K. and 1 if >50K or >50K.\n",
    "# y = np.where(y == '<=50K', 0, y)\n",
    "# y = np.where(y == '<=50K.', 0, y)\n",
    "# y = np.where(y == '>50K', 1, y)\n",
    "# y = np.where(y == '>50K.', 1, y)\n",
    "\n",
    "# y = y.astype(int)  # Ensure y is integer"
   ]
  },
  {
   "cell_type": "code",
   "execution_count": null,
   "metadata": {},
   "outputs": [],
   "source": []
  },
  {
   "cell_type": "code",
   "execution_count": 19,
   "metadata": {},
   "outputs": [],
   "source": [
    "\n",
    "\n",
    "\n",
    "        \n",
    "        \n",
    "\n",
    "# for col in X.columns:\n",
    "#     if X[col].dtype == 'object' and len(X[col].unique()) == 2:\n",
    "#         le = LabelEncoder()\n",
    "#         X[col] = le.fit_transform(X[col])\n",
    "            \n",
    "#     elif X[col].dtype == 'object':\n",
    "#         X = pd.get_dummies(X, columns=[col], drop_first=True)\n",
    "\n",
    "\n",
    "# for col in X.columns.values:\n",
    "#     scalar = StandardScaler()\n",
    "#     X[col] = scalar.fit_transform(X[col].values.reshape(-1, 1))\n",
    "        \n",
    "# # check if all the columns are numeric or not\n",
    "# for col in X.columns:\n",
    "#     print(col, X[col].dtype)"
   ]
  },
  {
   "cell_type": "code",
   "execution_count": 20,
   "metadata": {},
   "outputs": [],
   "source": [
    "# # flatten the target\n",
    "# y = y.flatten()\n",
    "# print(type(X))"
   ]
  },
  {
   "cell_type": "code",
   "execution_count": 21,
   "metadata": {},
   "outputs": [],
   "source": [
    "\n",
    "# X_train, X_test, y_train, y_test = train_test_split(X, y, test_size=0.2, random_state=42)\n",
    "# X_train, X_val, y_train, y_val = train_test_split(X_train, y_train, test_size=0.2, random_state=42)\n",
    "# y\n"
   ]
  },
  {
   "cell_type": "code",
   "execution_count": 22,
   "metadata": {},
   "outputs": [],
   "source": [
    "# print(type(y_train))"
   ]
  },
  {
   "cell_type": "code",
   "execution_count": 23,
   "metadata": {},
   "outputs": [],
   "source": [
    "adult_train = 'adult/adult.data'\n",
    "adult_test = 'adult/adult.test'\n",
    "def preprocess(choice):\n",
    "    if choice == 'adult':\n",
    "        df_train = pd.read_csv(adult_train, header=None)\n",
    "        df_test = pd.read_csv(adult_test, header=None, skiprows=1) # skip the first row\n",
    "        print(type(df_train))\n",
    "\n",
    "        df_train = df_train.replace(' ?', np.nan)\n",
    "        df_test = df_test.replace(' ?', np.nan)\n",
    "\n",
    "        # drop NaN\n",
    "        # df = df.dropna()\n",
    "        # df_test = df_test.dropna()\n",
    "\n",
    "        for col in df_train.columns:\n",
    "            if df_train[col].dtype == 'object':\n",
    "                df_train[col] = df_train[col].fillna(df_train[col].mode()[0])\n",
    "            else:\n",
    "                df_train[col] = df_train[col].fillna(df_train[col].mean())\n",
    "\n",
    "        for col in df_test.columns:\n",
    "            if df_test[col].dtype == 'object':\n",
    "                df_test[col] = df_test[col].fillna(df_test[col].mode()[0])\n",
    "            else:\n",
    "                df_test[col] = df_test[col].fillna(df_test[col].mean())\n",
    "\n",
    "        df_train[14] = df_train[14].apply(lambda x: 1 if x == ' >50K' else 0)\n",
    "        df_test[14] = df_test[14].apply(lambda x: 1 if x == ' >50K.' else 0)\n",
    "        \n",
    "        X_train = df_train.iloc[:, :-1]\n",
    "        y_train = df_train.iloc[:, -1]\n",
    "        X_test = df_test.iloc[:, :-1]\n",
    "        y_test = df_test.iloc[:, -1]\n",
    "\n",
    "            \n",
    "        for col in X_train.columns:\n",
    "            if X_train[col].dtype == 'object' and len(X_train[col].unique()) == 2:\n",
    "                le = LabelEncoder()\n",
    "                X_train[col] = le.fit_transform(X_train[col])\n",
    "            \n",
    "            elif X_train[col].dtype == 'object':\n",
    "                X_train = pd.get_dummies(X_train, columns=[col], drop_first=True)\n",
    "\n",
    "        for col in X_test.columns:\n",
    "            if X_test[col].dtype == 'object' and len(X_test[col].unique()) == 2:\n",
    "                le = LabelEncoder()\n",
    "                X_test[col] = le.fit_transform(X_test[col])\n",
    "            \n",
    "            elif X_test[col].dtype == 'object':\n",
    "                X_test = pd.get_dummies(X_test, columns=[col], drop_first=True)\n",
    "\n",
    "        #add missing columns to test set\n",
    "        missing_cols = set(X_train.columns) - set(X_test.columns)\n",
    "        for col in missing_cols:\n",
    "            X_test[col] = 0\n",
    "        X_test = X_test[X_train.columns]\n",
    "\n",
    "        for col in X_train.columns.values:\n",
    "            scalar = StandardScaler()\n",
    "            X_train[col] = scalar.fit_transform(X_train[col].values.reshape(-1, 1))\n",
    "            X_test[col] = scalar.transform(X_test[col].values.reshape(-1, 1))\n",
    "\n",
    "        return X_train, X_test, y_train, y_test"
   ]
  },
  {
   "cell_type": "code",
   "execution_count": 29,
   "metadata": {},
   "outputs": [
    {
     "name": "stdout",
     "output_type": "stream",
     "text": [
      "<class 'pandas.core.frame.DataFrame'>\n",
      "<class 'pandas.core.frame.DataFrame'>\n"
     ]
    }
   ],
   "source": [
    "X_train, X_test, y_train, y_test =preprocess('adult')\n",
    "def bootstrap_sample( X, y):\n",
    "        \n",
    "    indices = np.random.choice(X.shape[0], X.shape[0] ,replace=True)\n",
    "    return X.iloc[indices], y.iloc[indices]\n",
    "\n",
    "samples = bootstrap_sample(X_train, y_train)\n",
    "print(type(samples[0]))\n"
   ]
  },
  {
   "cell_type": "code",
   "execution_count": null,
   "metadata": {},
   "outputs": [],
   "source": []
  }
 ],
 "metadata": {
  "kernelspec": {
   "display_name": "Python 3",
   "language": "python",
   "name": "python3"
  },
  "language_info": {
   "codemirror_mode": {
    "name": "ipython",
    "version": 3
   },
   "file_extension": ".py",
   "mimetype": "text/x-python",
   "name": "python",
   "nbconvert_exporter": "python",
   "pygments_lexer": "ipython3",
   "version": "3.10.4"
  }
 },
 "nbformat": 4,
 "nbformat_minor": 2
}
